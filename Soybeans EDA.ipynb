{
 "cells": [
  {
   "cell_type": "code",
   "execution_count": 34,
   "metadata": {},
   "outputs": [
    {
     "name": "stdout",
     "output_type": "stream",
     "text": [
      "Requirement already satisfied: yfinance in c:\\users\\lorxus\\anaconda3\\envs\\erdos_spring_2025\\lib\\site-packages (0.2.29)\n",
      "Collecting yfinance\n",
      "  Using cached yfinance-0.2.52-py2.py3-none-any.whl.metadata (5.8 kB)\n",
      "Requirement already satisfied: pandas>=1.3.0 in c:\\users\\lorxus\\appdata\\roaming\\python\\python312\\site-packages (from yfinance) (2.2.3)\n",
      "Requirement already satisfied: numpy>=1.16.5 in c:\\users\\lorxus\\appdata\\roaming\\python\\python312\\site-packages (from yfinance) (2.1.3)\n",
      "Requirement already satisfied: requests>=2.31 in c:\\users\\lorxus\\anaconda3\\envs\\erdos_spring_2025\\lib\\site-packages (from yfinance) (2.32.3)\n",
      "Requirement already satisfied: multitasking>=0.0.7 in c:\\users\\lorxus\\anaconda3\\envs\\erdos_spring_2025\\lib\\site-packages (from yfinance) (0.0.11)\n",
      "Requirement already satisfied: lxml>=4.9.1 in c:\\users\\lorxus\\anaconda3\\envs\\erdos_spring_2025\\lib\\site-packages (from yfinance) (5.3.0)\n",
      "Requirement already satisfied: platformdirs>=2.0.0 in c:\\users\\lorxus\\appdata\\roaming\\python\\python312\\site-packages (from yfinance) (4.3.6)\n",
      "Requirement already satisfied: pytz>=2022.5 in c:\\users\\lorxus\\appdata\\roaming\\python\\python312\\site-packages (from yfinance) (2024.2)\n",
      "Requirement already satisfied: frozendict>=2.3.4 in c:\\users\\lorxus\\anaconda3\\envs\\erdos_spring_2025\\lib\\site-packages (from yfinance) (2.4.6)\n",
      "Requirement already satisfied: peewee>=3.16.2 in c:\\users\\lorxus\\anaconda3\\envs\\erdos_spring_2025\\lib\\site-packages (from yfinance) (3.17.9)\n",
      "Requirement already satisfied: beautifulsoup4>=4.11.1 in c:\\users\\lorxus\\anaconda3\\envs\\erdos_spring_2025\\lib\\site-packages (from yfinance) (4.12.3)\n",
      "Requirement already satisfied: html5lib>=1.1 in c:\\users\\lorxus\\anaconda3\\envs\\erdos_spring_2025\\lib\\site-packages (from yfinance) (1.1)\n",
      "Requirement already satisfied: soupsieve>1.2 in c:\\users\\lorxus\\anaconda3\\envs\\erdos_spring_2025\\lib\\site-packages (from beautifulsoup4>=4.11.1->yfinance) (2.5)\n",
      "Requirement already satisfied: six>=1.9 in c:\\users\\lorxus\\appdata\\roaming\\python\\python312\\site-packages (from html5lib>=1.1->yfinance) (1.16.0)\n",
      "Requirement already satisfied: webencodings in c:\\users\\lorxus\\anaconda3\\envs\\erdos_spring_2025\\lib\\site-packages (from html5lib>=1.1->yfinance) (0.5.1)\n",
      "Requirement already satisfied: python-dateutil>=2.8.2 in c:\\users\\lorxus\\appdata\\roaming\\python\\python312\\site-packages (from pandas>=1.3.0->yfinance) (2.9.0.post0)\n",
      "Requirement already satisfied: tzdata>=2022.7 in c:\\users\\lorxus\\appdata\\roaming\\python\\python312\\site-packages (from pandas>=1.3.0->yfinance) (2024.2)\n",
      "Requirement already satisfied: charset_normalizer<4,>=2 in c:\\users\\lorxus\\anaconda3\\envs\\erdos_spring_2025\\lib\\site-packages (from requests>=2.31->yfinance) (3.4.1)\n",
      "Requirement already satisfied: idna<4,>=2.5 in c:\\users\\lorxus\\anaconda3\\envs\\erdos_spring_2025\\lib\\site-packages (from requests>=2.31->yfinance) (3.10)\n",
      "Requirement already satisfied: urllib3<3,>=1.21.1 in c:\\users\\lorxus\\anaconda3\\envs\\erdos_spring_2025\\lib\\site-packages (from requests>=2.31->yfinance) (2.3.0)\n",
      "Requirement already satisfied: certifi>=2017.4.17 in c:\\users\\lorxus\\anaconda3\\envs\\erdos_spring_2025\\lib\\site-packages (from requests>=2.31->yfinance) (2024.12.14)\n",
      "Using cached yfinance-0.2.52-py2.py3-none-any.whl (108 kB)\n",
      "Installing collected packages: yfinance\n",
      "  Attempting uninstall: yfinance\n",
      "    Found existing installation: yfinance 0.2.29\n",
      "    Uninstalling yfinance-0.2.29:\n",
      "      Successfully uninstalled yfinance-0.2.29\n",
      "Successfully installed yfinance-0.2.52\n"
     ]
    }
   ],
   "source": [
    "# basic setup and imports\n",
    "\n",
    "# ! pip install yfinance\n",
    "\n",
    "import numpy as np\n",
    "import pandas as pd\n",
    "import sklearn as skl\n",
    "import yfinance as yf\n",
    "\n",
    "# initialize futures contract constants\n",
    "monthnamecode_dict = {'January': 'F', 'February': 'G', 'March':\t'H', 'April': 'J', 'May': 'K', 'June': 'M', 'July': 'N', 'August': 'Q', 'September': 'U', 'October': 'V', 'November': 'X', 'December': 'Z'}\n",
    "lettercodes = list(monthnamecode_dict.values())\n",
    "monthnumcode_dict = {}\n",
    "for i in range(12):\n",
    "    monthnumcode_dict[i+1] = lettercodes[i]\n",
    "\n",
    "valid_months = ['F', 'H', 'K', 'N', 'Q', 'U', 'X']  # soybean futures contracts come due in these months - 1, 3, 5, 7, 8, 9, 10, 12\n",
    "\n",
    "# Whole soybeans: ZS\n",
    "ticker_whole = 'ZS'\n",
    "\n",
    "# Soybean oil: ZL\n",
    "ticker_oil = 'ZL'\n",
    "\n",
    "# Soybean meal: ZM\n",
    "ticker_meal = 'ZM'\n",
    "\n",
    "# soy_tickers = [ticker_whole, ticker_oil, ticker_meal]\n",
    "\n",
    "wholebean_contracts = []\n",
    "soyoil_contracts = []\n",
    "soymeal_contracts = []\n",
    "\n",
    "for year in range(20, 25):  # let's try just the last few complete years to start with\n",
    "    beanyr_ticker = ticker_whole + str(year)\n",
    "    oilyr_ticker = ticker_oil + str(year)\n",
    "    mealyr_ticker = ticker_meal + str(year)\n",
    "    for m in valid_months:\n",
    "        wholebean_contracts.append((beanyr_ticker + m))\n",
    "        soyoil_contracts.append((oilyr_ticker + m))\n",
    "        soymeal_contracts.append((mealyr_ticker + m))"
   ]
  },
  {
   "cell_type": "code",
   "execution_count": 35,
   "metadata": {},
   "outputs": [
    {
     "name": "stderr",
     "output_type": "stream",
     "text": [
      "$ZSX23: possibly delisted; no timezone found\n"
     ]
    }
   ],
   "source": [
    "# Not going to try for a full train/validate/test setup just yet\n",
    "# This is all just EDA\n",
    "soyframe = yf.Ticker(\"ZSX23\")\n",
    "soyframe_df = soyframe.history(start='2022-12-01', end='2023-12-31', interval='1d')\n",
    "\n",
    "\n",
    "# Average all futures contracts together, pointwise and by type of soybean\n",
    "# \"What does the average completed contract look like over its lifetime?\"\n",
    "all_soy_contracts = [wholebean_contracts, soyoil_contracts, soymeal_contracts]\n",
    "# for flavor in all_soy_contracts:\n",
    "\n",
    "\n",
    "\n",
    "\n",
    "# Predictive power of oil + meal for whole soybean price\n",
    "# \"Does the price of whole soybeans track with the prices of both of its parts?\""
   ]
  }
 ],
 "metadata": {
  "kernelspec": {
   "display_name": "erdos_spring_2025",
   "language": "python",
   "name": "python3"
  },
  "language_info": {
   "codemirror_mode": {
    "name": "ipython",
    "version": 3
   },
   "file_extension": ".py",
   "mimetype": "text/x-python",
   "name": "python",
   "nbconvert_exporter": "python",
   "pygments_lexer": "ipython3",
   "version": "3.12.8"
  }
 },
 "nbformat": 4,
 "nbformat_minor": 2
}
